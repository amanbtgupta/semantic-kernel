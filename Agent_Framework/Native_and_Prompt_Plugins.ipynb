{
 "cells": [
  {
   "cell_type": "markdown",
   "id": "36509b14",
   "metadata": {},
   "source": [
    "## Azure AI Agents with Native and Prompt Template Plugins"
   ]
  },
  {
   "cell_type": "markdown",
   "id": "706239c0",
   "metadata": {},
   "source": [
    "#### SDK and toolset installation"
   ]
  },
  {
   "cell_type": "code",
   "execution_count": null,
   "id": "3ffaa363",
   "metadata": {},
   "outputs": [],
   "source": [
    "%pip install semantic-kernel, python-dotenv"
   ]
  },
  {
   "cell_type": "markdown",
   "id": "fcdb5182",
   "metadata": {},
   "source": [
    "#### Referencing the important libraries and packages"
   ]
  },
  {
   "cell_type": "code",
   "execution_count": null,
   "id": "758f47b3",
   "metadata": {},
   "outputs": [],
   "source": [
    "from semantic_kernel.agents import ChatCompletionAgent\n",
    "from semantic_kernel.connectors.ai import FunctionChoiceBehavior\n",
    "from semantic_kernel.connectors.ai.open_ai import AzureChatCompletion, AzureChatPromptExecutionSettings\n",
    "from semantic_kernel.functions import KernelFunctionFromPrompt\n",
    "from semantic_kernel.kernel import Kernel\n",
    "from dotenv import load_dotenv\n",
    "import os\n",
    "import math\n",
    "from typing import Annotated\n",
    "\n",
    "from semantic_kernel.functions.kernel_function_decorator import kernel_function"
   ]
  },
  {
   "cell_type": "markdown",
   "id": "f5049cac",
   "metadata": {},
   "source": [
    "#### Creating the Math Native Plugin"
   ]
  },
  {
   "cell_type": "code",
   "execution_count": null,
   "id": "49b17d22",
   "metadata": {},
   "outputs": [],
   "source": [
    "class Math:\n",
    "    \"\"\"\n",
    "    Description: MathPlugin provides a set of functions to make Math calculations.\n",
    "\n",
    "    Usage:\n",
    "        kernel.add_plugin(MathPlugin(), plugin_name=\"math\")\n",
    "\n",
    "    Examples:\n",
    "        {{math.Add}} => Returns the sum of input and amount (provided in the KernelArguments)\n",
    "        {{math.Subtract}} => Returns the difference of input and amount (provided in the KernelArguments)\n",
    "        {{math.Multiply}} => Returns the multiplication of input and number2 (provided in the KernelArguments)\n",
    "        {{math.Divide}} => Returns the division of input and number2 (provided in the KernelArguments)\n",
    "    \"\"\"\n",
    "\n",
    "    @kernel_function(\n",
    "        description=\"Divide two numbers.\",\n",
    "        name=\"Divide\",\n",
    "    )\n",
    "    def divide(\n",
    "        self,\n",
    "        number1: Annotated[float, \"the first number to divide from\"],\n",
    "        number2: Annotated[float, \"the second number to by\"],\n",
    "    ) -> Annotated[float, \"The output is a float\"]:\n",
    "        return float(number1) / float(number2)\n",
    "\n",
    "    @kernel_function(\n",
    "        description=\"Multiply two numbers. When increasing by a percentage, don't forget to add 1 to the percentage.\",\n",
    "        name=\"Multiply\",\n",
    "    )\n",
    "    def multiply(\n",
    "        self,\n",
    "        number1: Annotated[float, \"the first number to multiply\"],\n",
    "        number2: Annotated[float, \"the second number to multiply\"],\n",
    "    ) -> Annotated[float, \"The output is a float\"]:\n",
    "        return float(number1) * float(number2)\n",
    "\n",
    "    @kernel_function(\n",
    "        description=\"Takes the square root of a number\",\n",
    "        name=\"Sqrt\",\n",
    "    )\n",
    "    def square_root(\n",
    "        self,\n",
    "        number1: Annotated[float, \"the number to take the square root of\"],\n",
    "    ) -> Annotated[float, \"The output is a float\"]:\n",
    "        return math.sqrt(float(number1))\n",
    "\n",
    "    @kernel_function(name=\"Add\")\n",
    "    def add(\n",
    "        self,\n",
    "        number1: Annotated[float, \"the first number to add\"],\n",
    "        number2: Annotated[float, \"the second number to add\"],\n",
    "    ) -> Annotated[float, \"the output is a float\"]:\n",
    "        return float(number1) + float(number2)\n",
    "\n",
    "    @kernel_function(\n",
    "        description=\"Subtracts value to a value\",\n",
    "        name=\"Subtract\",\n",
    "    )\n",
    "    def subtract(\n",
    "        self,\n",
    "        number1: Annotated[float, \"the first number\"],\n",
    "        number2: Annotated[float, \"the number to subtract\"],\n",
    "    ) -> Annotated[float, \"the output is a float\"]:\n",
    "        return float(number1) - float(number2)"
   ]
  },
  {
   "cell_type": "markdown",
   "id": "52b0f14c",
   "metadata": {},
   "source": [
    "#### Creating the Kernel with Auto Function Behavior and the native and prompt-template plugins"
   ]
  },
  {
   "cell_type": "code",
   "execution_count": null,
   "id": "6dacb115",
   "metadata": {},
   "outputs": [],
   "source": [
    "from semantic_kernel.agents import AzureAIAgent, AzureAIAgentSettings\n",
    "from azure.ai.projects import AIProjectClient\n",
    "from azure.ai.projects.models import MessageTextContent\n",
    "from azure.identity import DefaultAzureCredential\n",
    "\n",
    "load_dotenv()\n",
    "\n",
    "model = os.getenv(\"AZURE_OPENAI_CHAT_COMPLETION_MODEL\")\n",
    "\n",
    "project_client = AzureAIAgent.create_client(credential=DefaultAzureCredential(),\n",
    "                           conn_str=os.getenv(\"PROJECT_CONNECTION_STRING\")\n",
    ")\n",
    "\n",
    "kernel = Kernel()\n",
    "\n",
    "service_id = \"default\"\n",
    "\n",
    "kernel.add_service(\n",
    "    AzureChatCompletion(service_id=service_id,\n",
    "                        api_key=os.getenv(\"AZURE_OPENAI_API_KEY\"),\n",
    "                        deployment_name=os.getenv(\"AZURE_OPENAI_CHAT_COMPLETION_MODEL\"),\n",
    "                        endpoint = os.getenv(\"AZURE_OPENAI_ENDPOINT\")\n",
    "    )\n",
    ")\n",
    "\n",
    "# Get the AI Service settings\n",
    "settings = kernel.get_prompt_execution_settings_from_service_id(service_id=service_id)\n",
    "\n",
    "# Configure the function choice behavior to auto invoke kernel functions\n",
    "settings.function_choice_behavior = FunctionChoiceBehavior.Auto()\n",
    "\n",
    "#Adding the native plugin to the kernel\n",
    "kernel.add_plugin(Math(), plugin_name=\"math\")\n",
    "\n",
    "#Adding the prompt template plugin to the kernel\n",
    "plugin = kernel.add_plugin(parent_directory=\"../plugins/prompt_templates/\", plugin_name=\"basic_plugin\")\n",
    "\n",
    "\n",
    "\n"
   ]
  },
  {
   "cell_type": "markdown",
   "id": "af138a93",
   "metadata": {},
   "source": [
    "#### Creating a ChatCompletionAgent with the kernel"
   ]
  },
  {
   "cell_type": "code",
   "execution_count": null,
   "id": "5e83957a",
   "metadata": {},
   "outputs": [],
   "source": [
    "from azure.identity import DefaultAzureCredential\n",
    "from azure.ai.projects import AIProjectClient\n",
    "from semantic_kernel.functions import KernelArguments\n",
    "\n",
    "# Create the agent\n",
    "agent = ChatCompletionAgent(\n",
    "    kernel=kernel, \n",
    "    name=\"Plugins-Agent\", \n",
    "    instructions=\"You are a helpful AI assistant\", \n",
    "    arguments=KernelArguments(settings=settings),\n",
    ")"
   ]
  },
  {
   "cell_type": "markdown",
   "id": "08ebf885",
   "metadata": {},
   "source": [
    "#### Invoking the agent to see plugin execution"
   ]
  },
  {
   "cell_type": "code",
   "execution_count": null,
   "id": "ae8845a2",
   "metadata": {},
   "outputs": [],
   "source": [
    "user_input = \"\"\"add 5 and 2. Also create contact information for the user with the following details:\n",
    "1) Name: John Doe\n",
    "2) Phone Number: 123-456-7890\n",
    "3) Email ID: john@outlook.com\n",
    "4) Address: 123 Main St, Springfield, USA\n",
    "\"\"\"\n",
    "# 3. Call the agent with user input\n",
    "async def get_response_from_agent():\n",
    "    response =  await agent.get_response(\n",
    "        messages = user_input\n",
    "    )\n",
    "    \n",
    "    return response\n",
    "\n",
    "response = await get_response_from_agent()\n",
    "print(response)"
   ]
  },
  {
   "cell_type": "markdown",
   "id": "41733bdb",
   "metadata": {},
   "source": [
    "#### Viewing Intermediate plugin execution steps with \"intermediate_steps\" "
   ]
  },
  {
   "cell_type": "code",
   "execution_count": null,
   "id": "1a5f15f2",
   "metadata": {},
   "outputs": [],
   "source": [
    "from semantic_kernel.contents import ChatMessageContent\n",
    "from semantic_kernel.agents import ChatHistoryAgentThread\n",
    "from semantic_kernel.contents import AuthorRole, ChatMessageContent, FunctionCallContent, FunctionResultContent\n",
    "\n",
    "# Define the thread\n",
    "thread = ChatHistoryAgentThread()\n",
    "\n",
    "# Define a list to hold callback message content\n",
    "intermediate_steps: list[ChatMessageContent] = []\n",
    "\n",
    "# Define an async method to handle the `on_intermediate_message` callback\n",
    "async def handle_intermediate_steps(message: ChatMessageContent) -> None:\n",
    "    intermediate_steps.append(message)\n",
    "\n",
    "# Define the main function to get a response\n",
    "async def get_response_from_agent_with_intermediate_steps():\n",
    "    async for response in agent.invoke(\n",
    "        messages=user_input,\n",
    "        thread=thread,\n",
    "        on_intermediate_message=handle_intermediate_steps\n",
    "    ):\n",
    "        return response\n",
    "\n",
    "# Run the function\n",
    "response = await get_response_from_agent_with_intermediate_steps()\n",
    "print(\"Agent response: \\n\")\n",
    "print(f\"{response} \\n\")\n",
    "print(\"------------------------------------------------------------\")\n",
    "\n",
    " # Print the intermediate steps\n",
    "print(\"\\nIntermediate Steps:\")\n",
    "for msg in intermediate_steps:\n",
    "      if any(isinstance(item, FunctionResultContent) for item in msg.items):\n",
    "          for fr in msg.items:\n",
    "              if isinstance(fr, FunctionResultContent):\n",
    "                  print(f\"Function Result:> {fr.result} for function: {fr.name}\")\n",
    "      elif any(isinstance(item, FunctionCallContent) for item in msg.items):\n",
    "          for fcc in msg.items:\n",
    "              if isinstance(fcc, FunctionCallContent):\n",
    "                  print(f\"Function Call:> {fcc.name} with arguments: {fcc.arguments}\")\n",
    "      else:\n",
    "          print(f\"{msg.role}: {msg.content}\")"
   ]
  }
 ],
 "metadata": {
  "kernelspec": {
   "display_name": "Python 3",
   "language": "python",
   "name": "python3"
  },
  "language_info": {
   "codemirror_mode": {
    "name": "ipython",
    "version": 3
   },
   "file_extension": ".py",
   "mimetype": "text/x-python",
   "name": "python",
   "nbconvert_exporter": "python",
   "pygments_lexer": "ipython3",
   "version": "3.11.5"
  }
 },
 "nbformat": 4,
 "nbformat_minor": 5
}
