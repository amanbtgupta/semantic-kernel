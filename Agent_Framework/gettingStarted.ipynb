{
 "cells": [
  {
   "cell_type": "markdown",
   "id": "b90319f2",
   "metadata": {},
   "source": [
    "## Getting Started with the Semantic Kernel SDK Agent Framework"
   ]
  },
  {
   "cell_type": "markdown",
   "id": "157a2af4",
   "metadata": {},
   "source": [
    "#### Installing utilities and dependencies"
   ]
  },
  {
   "cell_type": "code",
   "execution_count": null,
   "id": "8c09635f",
   "metadata": {},
   "outputs": [],
   "source": [
    "%pip install semantic-kernel"
   ]
  },
  {
   "cell_type": "code",
   "execution_count": null,
   "id": "507bbb83",
   "metadata": {},
   "outputs": [],
   "source": [
    "%pip install python-dotenv"
   ]
  },
  {
   "cell_type": "markdown",
   "id": "d23d604c",
   "metadata": {},
   "source": [
    "#### Creating the Kernel and the AzureChatCompletion Client"
   ]
  },
  {
   "cell_type": "code",
   "execution_count": null,
   "id": "ed4561b6",
   "metadata": {},
   "outputs": [],
   "source": [
    "from semantic_kernel import Kernel\n",
    "from semantic_kernel.connectors.ai.open_ai import AzureChatCompletion\n",
    "from semantic_kernel.functions import KernelArguments\n",
    "import os\n",
    "import asyncio\n",
    "import time\n",
    "from dotenv import load_dotenv\n",
    "\n",
    "kernel = Kernel()\n",
    "\n",
    "load_dotenv()\n",
    "# Load environment variables from .env file\n",
    "api_key = os.getenv(\"AZURE_OPENAI_API_KEY\")\n",
    "deployment_name = os.getenv(\"AZURE_OPENAI_CHAT_COMPLETION_MODEL\")\n",
    "endpoint = os.getenv(\"AZURE_OPENAI_ENDPOINT\")\n",
    "\n",
    "print(f\"API Key: {api_key}\")\n",
    "print(f\"Deployment Name: {deployment_name}\")\n",
    "print(f\"Endpoint: {endpoint}\")\n",
    "\n",
    "service_id = \"service1\"\n",
    "kernel.add_service(\n",
    "    AzureChatCompletion(service_id=service_id,\n",
    "                        api_key=api_key,\n",
    "                        deployment_name=deployment_name,\n",
    "                        endpoint = endpoint\n",
    "    )\n",
    ")"
   ]
  },
  {
   "cell_type": "markdown",
   "id": "2d376d05",
   "metadata": {},
   "source": [
    "#### Creating the Agent with the AzureChatCompletionClient"
   ]
  },
  {
   "cell_type": "code",
   "execution_count": null,
   "id": "31de34f2",
   "metadata": {},
   "outputs": [],
   "source": [
    "from semantic_kernel.agents import ChatCompletionAgent\n",
    "from semantic_kernel.connectors.ai.prompt_execution_settings import PromptExecutionSettings\n",
    "from semantic_kernel.functions.kernel_arguments import KernelArguments\n",
    "from semantic_kernel.connectors.ai.function_choice_behavior import FunctionChoiceBehavior\n",
    "\n",
    "arguments = KernelArguments(\n",
    "        settings=PromptExecutionSettings(\n",
    "            # Set the function_choice_behavior to auto to let the model\n",
    "            # decide which function to use, and let the kernel automatically\n",
    "            # execute the functions.\n",
    "            function_choice_behavior=FunctionChoiceBehavior.Auto(),\n",
    "        )\n",
    "    )\n",
    "\n",
    "# Create the agent using the kernel\n",
    "agent = ChatCompletionAgent(\n",
    "  kernel=kernel, \n",
    "  name=\"ChatCompletionAgent\", \n",
    "  instructions=\"You are a helpful AI assistant\",\n",
    "  arguments=arguments\n",
    ")"
   ]
  },
  {
   "cell_type": "markdown",
   "id": "481ed7e1",
   "metadata": {},
   "source": [
    "#### Sending a simplistic message to our agent "
   ]
  },
  {
   "cell_type": "code",
   "execution_count": null,
   "id": "38b741cc",
   "metadata": {},
   "outputs": [],
   "source": [
    "response = await agent.get_response(messages=\"Hello how are you?\")\n",
    "print(response)\n"
   ]
  },
  {
   "cell_type": "markdown",
   "id": "f6caa50b",
   "metadata": {},
   "source": [
    "#### Seeing Agent Chat History Thread in Action\n"
   ]
  },
  {
   "cell_type": "code",
   "execution_count": null,
   "id": "6f9f1dee",
   "metadata": {},
   "outputs": [],
   "source": [
    "from semantic_kernel.agents import ChatHistoryAgentThread\n",
    "\n",
    "# Define the thread\n",
    "thread = ChatHistoryAgentThread()\n",
    "\n",
    "continueChat = True\n",
    "\n",
    "while continueChat:\n",
    "    user_input = input(\"Enter your query: \")\n",
    "    if user_input.lower() == \"exit\":\n",
    "        continueChat = False\n",
    "        break\n",
    "    response = await agent.get_response(messages=user_input, thread=thread)\n",
    "    print(response)\n"
   ]
  }
 ],
 "metadata": {
  "kernelspec": {
   "display_name": "Python 3",
   "language": "python",
   "name": "python3"
  },
  "language_info": {
   "codemirror_mode": {
    "name": "ipython",
    "version": 3
   },
   "file_extension": ".py",
   "mimetype": "text/x-python",
   "name": "python",
   "nbconvert_exporter": "python",
   "pygments_lexer": "ipython3",
   "version": "3.11.5"
  }
 },
 "nbformat": 4,
 "nbformat_minor": 5
}
