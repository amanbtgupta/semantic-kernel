{
 "cells": [
  {
   "cell_type": "markdown",
   "id": "32b1f28f",
   "metadata": {},
   "source": [
    "## Sequential Orchestration with Semantic Kernel Agent Framework"
   ]
  },
  {
   "cell_type": "markdown",
   "id": "06211f77",
   "metadata": {},
   "source": [
    "![SK-Sequential-Orchestration](SKSequentialOrchestration.png)"
   ]
  },
  {
   "cell_type": "markdown",
   "id": "21e03367",
   "metadata": {},
   "source": [
    "### Installing the Dependencies and Libraries"
   ]
  },
  {
   "cell_type": "code",
   "execution_count": null,
   "id": "c3cfc791",
   "metadata": {},
   "outputs": [],
   "source": [
    "%pip install semantic-kernel==1.30.0, azure-identity, python-dotenv, azure-ai-projects==1.0.0b8"
   ]
  },
  {
   "cell_type": "markdown",
   "id": "7f24f8b2",
   "metadata": {},
   "source": [
    "### Importing Utilities"
   ]
  },
  {
   "cell_type": "code",
   "execution_count": null,
   "id": "1873d287",
   "metadata": {},
   "outputs": [],
   "source": [
    "from azure.identity import DefaultAzureCredential\n",
    "from semantic_kernel.agents import AzureAIAgent, AzureAIAgentSettings\n",
    "import os\n",
    "from azure.ai.projects import AIProjectClient\n",
    "from azure.ai.projects.models import MessageTextContent\n",
    "from dotenv import load_dotenv\n",
    "from azure.ai.projects.models import OpenApiTool, OpenApiAnonymousAuthDetails\n",
    "import asyncio\n",
    "from typing import Any, Callable, Set, Dict, List, Optional\n",
    "import jsonref\n",
    "from azure.ai.projects.models import FunctionTool, ToolSet\n",
    "import json\n",
    "from azure.ai.projects.models import CodeInterpreterTool, MessageAttachment\n",
    "\n",
    "load_dotenv()\n",
    "\n",
    "model = os.getenv(\"AZURE_OPENAI_CHAT_COMPLETION_MODEL\")\n",
    "\n",
    "project_client = AzureAIAgent.create_client(credential=DefaultAzureCredential(),\n",
    "                           conn_str=os.getenv(\"PROJECT_CONNECTION_STRING\")\n",
    ")"
   ]
  },
  {
   "cell_type": "markdown",
   "id": "f664c8d9",
   "metadata": {},
   "source": [
    "### Defining the Weather-Agent with OpenAPI Tool"
   ]
  },
  {
   "cell_type": "code",
   "execution_count": null,
   "id": "2f0698f8",
   "metadata": {},
   "outputs": [],
   "source": [
    "with open(\"./weather_openapi.json\", \"r\") as f:\n",
    "    openapi_spec = jsonref.loads(f.read())\n",
    "\n",
    "# Create Auth object for the OpenApiTool \n",
    "auth = OpenApiAnonymousAuthDetails()\n",
    "\n",
    "# Initialize agent OpenApi tool using the read in OpenAPI spec\n",
    "openapi = OpenApiTool(\n",
    "    name=\"get_weather\", spec=openapi_spec, description=\"Retrieve weather information for a location\", auth=auth\n",
    ")\n",
    "\n",
    "toolset_for_weather_agent = ToolSet()\n",
    "toolset_for_weather_agent.add(openapi)\n",
    "\n",
    "weather_agent = await project_client.agents.create_agent(\n",
    "    model = model,\n",
    "    name = \"Weather-Agent\",\n",
    "    instructions = f\"\"\"You are a weather agent and your work is to answer user queries related\n",
    "                       to weather information using the tools you are equipped with\"\"\",\n",
    "    toolset=toolset_for_weather_agent\n",
    ")\n",
    "\n",
    "# [END create_agent_toolset]\n",
    "print(f\"Created agent, ID: {weather_agent.id}\")\n",
    "\n",
    "\n",
    "weather_agent_definition = await project_client.agents.get_agent(agent_id=weather_agent.id)\n",
    "\n",
    "weather_agent_instance = AzureAIAgent(client = project_client,\n",
    "                                      definition = weather_agent_definition)\n",
    "\n"
   ]
  },
  {
   "cell_type": "markdown",
   "id": "81d7a0da",
   "metadata": {},
   "source": [
    "### Defining the Summariser Agent"
   ]
  },
  {
   "cell_type": "code",
   "execution_count": null,
   "id": "23f27c2b",
   "metadata": {},
   "outputs": [],
   "source": [
    "summariser_agent = await project_client.agents.create_agent(\n",
    "    model = model,\n",
    "    name = \"Summariser-Agent\",\n",
    "    instructions = f\"\"\"You are a summariser agent meant to summarise the output with clear formatting\"\"\",\n",
    "    \n",
    ")\n",
    "\n",
    "# [END create_agent_toolset]\n",
    "print(f\"Created agent, ID: {summariser_agent.id}\")\n",
    "\n",
    "\n",
    "summariser_agent_definition = await project_client.agents.get_agent(agent_id=summariser_agent.id)\n",
    "\n",
    "summariser__agent_instance = AzureAIAgent(client = project_client,\n",
    "                                      definition = summariser_agent_definition)"
   ]
  },
  {
   "cell_type": "markdown",
   "id": "f85139ec",
   "metadata": {},
   "source": [
    "### Sequentially Orchestrating the Agentic Flow"
   ]
  },
  {
   "cell_type": "code",
   "execution_count": null,
   "id": "9eab6c91",
   "metadata": {},
   "outputs": [],
   "source": [
    "from semantic_kernel.agents import Agent, ChatCompletionAgent, SequentialOrchestration\n",
    "from semantic_kernel.agents.runtime import InProcessRuntime\n",
    "from semantic_kernel.contents import ChatMessageContent\n",
    "\n",
    "agent_messages = []\n",
    "\n",
    "def agent_response_callback(message: ChatMessageContent) -> None:\n",
    "    \"\"\"Observer function to print the messages from the agents and store them.\"\"\"\n",
    "    print(f\"# {message.name}\\n{message.content}\")\n",
    "    agent_messages.append((message.name, message.content))\n",
    "\n",
    "sequential_orchestration = SequentialOrchestration(\n",
    "    members=[weather_agent_instance, summariser__agent_instance],\n",
    "    agent_response_callback=agent_response_callback,\n",
    ")\n",
    "\n",
    "# 2. Create a runtime and start it\n",
    "runtime = InProcessRuntime()\n",
    "runtime.start()\n",
    "\n",
    "goal = f\"\"\"Help me generate markdowns for better visualization for weather in Mumbai\"\"\"\n",
    "\n",
    "# 3. Invoke the orchestration with a task and the runtime\n",
    "orchestration_result = await sequential_orchestration.invoke(\n",
    "    task=goal,\n",
    "    runtime=runtime,\n",
    ")\n",
    "\n",
    "# 4. Wait for the results\n",
    "value = await orchestration_result.get()\n",
    "print(f\"***** Final Result *****\\n{value}\")\n",
    "\n",
    "weather_response = next((content for name, content in agent_messages if name == \"Weather-Agent\"), None)\n",
    "\n",
    "# Save the final result and weather agent's response as a markdown file\n",
    "with open(\"weather_visualization.md\", \"w\", encoding=\"utf-8\") as md_file:\n",
    "    md_file.write(\"# Weather Visualization\\n\\n\")\n",
    "    if weather_response:\n",
    "        md_file.write(\"## Weather-Agent Response\\n\")\n",
    "        md_file.write(f\"{weather_response}\\n\\n\")\n",
    "    md_file.write(\"## Summary\\n\")\n",
    "    md_file.write(f\"{value}\\n\")\n",
    "\n",
    "print(\"Markdown file 'weather_visualization.md' created.\")\n",
    "\n",
    "# 5. Stop the runtime when idle\n",
    "await runtime.stop_when_idle()\n",
    "\n"
   ]
  }
 ],
 "metadata": {
  "kernelspec": {
   "display_name": "Python 3",
   "language": "python",
   "name": "python3"
  },
  "language_info": {
   "codemirror_mode": {
    "name": "ipython",
    "version": 3
   },
   "file_extension": ".py",
   "mimetype": "text/x-python",
   "name": "python",
   "nbconvert_exporter": "python",
   "pygments_lexer": "ipython3",
   "version": "3.11.5"
  }
 },
 "nbformat": 4,
 "nbformat_minor": 5
}
