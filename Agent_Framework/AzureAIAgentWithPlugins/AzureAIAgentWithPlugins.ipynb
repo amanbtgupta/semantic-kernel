{
 "cells": [
  {
   "cell_type": "markdown",
   "id": "bd12c54a",
   "metadata": {},
   "source": [
    "## Building Azure AI Agent with Plugins\n"
   ]
  },
  {
   "cell_type": "markdown",
   "id": "c02bc2f9",
   "metadata": {},
   "source": [
    "![Agent Workflow](https://github.com/kuljotSB/semantic-kernel/blob/main/Assets/AzureAIAgent_With_Plugins.jpg?raw=true)\n"
   ]
  },
  {
   "cell_type": "markdown",
   "id": "c4b5db91",
   "metadata": {},
   "source": [
    "#### Installing dependencies and libraries"
   ]
  },
  {
   "cell_type": "code",
   "execution_count": null,
   "id": "7a1a27b4",
   "metadata": {},
   "outputs": [],
   "source": [
    "%pip install semantic-kernel==1.28.1, azure-identity, python-dotenv, azure-ai-projects==1.0.0b7"
   ]
  },
  {
   "cell_type": "markdown",
   "id": "9c137726",
   "metadata": {},
   "source": [
    "#### Loading our OpenAPI and Code Interpreter Tool"
   ]
  },
  {
   "cell_type": "code",
   "execution_count": null,
   "id": "11167cd1",
   "metadata": {},
   "outputs": [],
   "source": [
    "from azure.identity import DefaultAzureCredential\n",
    "from semantic_kernel.agents import AzureAIAgent, AzureAIAgentSettings\n",
    "import os\n",
    "from azure.ai.projects import AIProjectClient\n",
    "from azure.ai.projects.models import MessageTextContent\n",
    "from dotenv import load_dotenv\n",
    "from azure.ai.projects.models import OpenApiTool, OpenApiAnonymousAuthDetails\n",
    "import asyncio\n",
    "from typing import Any, Callable, Set, Dict, List, Optional\n",
    "import jsonref\n",
    "from azure.ai.projects.models import FunctionTool, ToolSet\n",
    "import json\n",
    "from azure.ai.projects.models import CodeInterpreterTool, MessageAttachment\n",
    "\n",
    "load_dotenv()\n",
    "\n",
    "model = os.getenv(\"AZURE_OPENAI_CHAT_COMPLETION_MODEL\")\n",
    "\n",
    "project_client = AzureAIAgent.create_client(credential=DefaultAzureCredential(),\n",
    "                           conn_str=os.getenv(\"PROJECT_CONNECTION_STRING\")\n",
    ")\n",
    "\n",
    "with open(\"./weather_openapi.json\", \"r\") as f:\n",
    "    openapi_spec = jsonref.loads(f.read())\n",
    "\n",
    "# Create Auth object for the OpenApiTool \n",
    "auth = OpenApiAnonymousAuthDetails()\n",
    "\n",
    "# Initialize agent OpenApi tool using the read in OpenAPI spec\n",
    "openapi = OpenApiTool(\n",
    "    name=\"get_weather\", spec=openapi_spec, description=\"Retrieve weather information for a location\", auth=auth\n",
    ")\n",
    "\n",
    "code_interpreter = CodeInterpreterTool()\n",
    "    \n"
   ]
  },
  {
   "cell_type": "markdown",
   "id": "ad7d5622",
   "metadata": {},
   "source": [
    "#### Encapsulating both Tools in a Toolset"
   ]
  },
  {
   "cell_type": "code",
   "execution_count": null,
   "id": "52c52451",
   "metadata": {},
   "outputs": [],
   "source": [
    "toolset = ToolSet()\n",
    "toolset.add(openapi)\n",
    "toolset.add(code_interpreter)"
   ]
  },
  {
   "cell_type": "markdown",
   "id": "c56a1f00",
   "metadata": {},
   "source": [
    "#### Creating Azure AI Agent (in Cloud)"
   ]
  },
  {
   "cell_type": "code",
   "execution_count": null,
   "id": "3e62ddd6",
   "metadata": {},
   "outputs": [],
   "source": [
    "agent = await project_client.agents.create_agent(\n",
    "        model=model,\n",
    "        name=\"multiple-tools-assistant\",\n",
    "        instructions=\"You are a helpful assistant\",\n",
    "        toolset=toolset,\n",
    "    )\n",
    "# [END create_agent_toolset]\n",
    "print(f\"Created agent, ID: {agent.id}\")\n",
    "agent_id = agent.id\n",
    "\n",
    "thread = await project_client.agents.create_thread()\n",
    "print(f\"Created thread, thread ID: {thread.id}\")\n",
    "thread_id = thread.id\n",
    "\n"
   ]
  },
  {
   "cell_type": "markdown",
   "id": "ca270e3e",
   "metadata": {},
   "source": [
    "#### Creating Azure AI Agent (in Semantic Kernel ~ Locally)"
   ]
  },
  {
   "cell_type": "code",
   "execution_count": null,
   "id": "d00ddd0a",
   "metadata": {},
   "outputs": [],
   "source": [
    "agent_definition = await project_client.agents.get_agent(agent_id=agent_id)\n",
    "agent = AzureAIAgent(client=project_client, definition=agent_definition)"
   ]
  },
  {
   "cell_type": "markdown",
   "id": "283a3b0c",
   "metadata": {},
   "source": [
    "#### Invoking the Agent with a Thread"
   ]
  },
  {
   "cell_type": "code",
   "execution_count": null,
   "id": "627db472",
   "metadata": {},
   "outputs": [],
   "source": [
    "from semantic_kernel.agents import AzureAIAgentThread\n",
    "\n",
    "thread: AzureAIAgentThread = AzureAIAgentThread(client=project_client, thread_id=thread_id)\n",
    "print(f\"Working with the thread, ID: {thread.id}\")\n",
    "\n",
    "\n",
    "user_input = \"What is the weather in Paris and generate a chart for the same?\"\n",
    "# 3. Call the agent with user input\n",
    "async def get_response_from_agent():\n",
    "    response =  await agent.get_response(\n",
    "        messages = user_input,\n",
    "        thread=thread,\n",
    "    )\n",
    "    \n",
    "    return response\n",
    "\n",
    "response = await get_response_from_agent()\n",
    "print(response)"
   ]
  },
  {
   "cell_type": "markdown",
   "id": "88479b42",
   "metadata": {},
   "source": [
    "#### Fetching the PNG file of the Chart"
   ]
  },
  {
   "cell_type": "code",
   "execution_count": null,
   "id": "d1271015",
   "metadata": {},
   "outputs": [],
   "source": [
    "from azure.ai.projects.models import CodeInterpreterTool, MessageAttachment\n",
    "from azure.ai.projects.models import FilePurpose, MessageRole\n",
    "from pathlib import Path\n",
    "\n",
    "\n",
    "messages = await project_client.agents.list_messages(thread_id=thread_id)\n",
    "print(f\"Messages: {messages}\")\n",
    "\n",
    "last_msg = messages.get_last_text_message_by_role(MessageRole.AGENT)\n",
    "if last_msg:\n",
    "        print(f\"Last Message: {last_msg.text.value}\")\n",
    "\n",
    "for image_content in messages.image_contents:\n",
    "        print(f\"Image File ID: {image_content.image_file.file_id}\")\n",
    "        file_name = f\"{image_content.image_file.file_id}_image_file.png\"\n",
    "        await project_client.agents.save_file(file_id=image_content.image_file.file_id, file_name=file_name)\n",
    "        print(f\"Saved image file to: {Path.cwd() / file_name}\")"
   ]
  }
 ],
 "metadata": {
  "kernelspec": {
   "display_name": "Python 3",
   "language": "python",
   "name": "python3"
  },
  "language_info": {
   "codemirror_mode": {
    "name": "ipython",
    "version": 3
   },
   "file_extension": ".py",
   "mimetype": "text/x-python",
   "name": "python",
   "nbconvert_exporter": "python",
   "pygments_lexer": "ipython3",
   "version": "3.11.5"
  }
 },
 "nbformat": 4,
 "nbformat_minor": 5
}
