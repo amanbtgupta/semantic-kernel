{
 "cells": [
  {
   "cell_type": "markdown",
   "id": "629f51db",
   "metadata": {},
   "source": [
    "## Agent Group Chat - News Channel Use Case (News Creation - Writer and Reviewer)"
   ]
  },
  {
   "cell_type": "markdown",
   "id": "4e20a579",
   "metadata": {},
   "source": [
    "![Agent Workflow](https://github.com/kuljotSB/semantic-kernel/blob/main/Assets/AgentChat.jpg?raw=true)\n"
   ]
  },
  {
   "cell_type": "markdown",
   "id": "f45f2187",
   "metadata": {},
   "source": [
    "#### Installing SDK and Libraries"
   ]
  },
  {
   "cell_type": "code",
   "execution_count": null,
   "id": "e96c7915",
   "metadata": {},
   "outputs": [],
   "source": [
    "%pip install semantic-kernel[azure], azure-identity, python-dotenv, azure-ai-projects"
   ]
  },
  {
   "cell_type": "markdown",
   "id": "37ccb915",
   "metadata": {},
   "source": [
    "#### Creating the Azure AI Project Client"
   ]
  },
  {
   "cell_type": "code",
   "execution_count": null,
   "id": "c4376ae2",
   "metadata": {},
   "outputs": [],
   "source": [
    "from azure.identity import DefaultAzureCredential\n",
    "from semantic_kernel.agents import AzureAIAgent, AzureAIAgentSettings\n",
    "import os\n",
    "from azure.ai.projects import AIProjectClient\n",
    "from azure.ai.projects.models import MessageTextContent\n",
    "from dotenv import load_dotenv\n",
    "import asyncio\n",
    "from semantic_kernel import Kernel\n",
    "from semantic_kernel.agents import AgentGroupChat, ChatCompletionAgent\n",
    "from semantic_kernel.agents.strategies import (\n",
    "    KernelFunctionSelectionStrategy,\n",
    "    KernelFunctionTerminationStrategy,\n",
    ")\n",
    "from semantic_kernel.connectors.ai.open_ai import AzureChatCompletion\n",
    "from semantic_kernel.contents import ChatHistoryTruncationReducer\n",
    "from semantic_kernel.functions import KernelFunctionFromPrompt\n",
    "\n",
    "load_dotenv()\n",
    "\n",
    "model = os.getenv(\"AZURE_OPENAI_CHAT_COMPLETION_MODEL\")\n",
    "\n",
    "project_client = AzureAIAgent.create_client(credential=DefaultAzureCredential(),\n",
    "                           conn_str=os.getenv(\"PROJECT_CONNECTION_STRING\")\n",
    ")\n",
    "\n",
    "\n"
   ]
  },
  {
   "cell_type": "markdown",
   "id": "ac33d057",
   "metadata": {},
   "source": [
    "#### Naming our \"Writer\" and \"Reviewer\" Agent"
   ]
  },
  {
   "cell_type": "code",
   "execution_count": null,
   "id": "c456c530",
   "metadata": {},
   "outputs": [],
   "source": [
    "# Define agent names\n",
    "REVIEWER_NAME = \"Reviewer\"\n",
    "WRITER_NAME = \"Writer\""
   ]
  },
  {
   "cell_type": "markdown",
   "id": "9789e529",
   "metadata": {},
   "source": [
    "#### System Prompt for the \"Writer\" Agent"
   ]
  },
  {
   "cell_type": "code",
   "execution_count": null,
   "id": "627cd681",
   "metadata": {},
   "outputs": [],
   "source": [
    "writer_agent_prompt = f\"\"\"Your sole responsibility is to rewrite content according to review suggestions.\n",
    "- Always apply all review directions.\n",
    "- Always revise the content in its entirety without explanation.\n",
    "- Never address the user. \"\"\""
   ]
  },
  {
   "cell_type": "markdown",
   "id": "7ea38295",
   "metadata": {},
   "source": [
    "#### Creating the \"Writer\" Agent"
   ]
  },
  {
   "cell_type": "code",
   "execution_count": null,
   "id": "3ff240d1",
   "metadata": {},
   "outputs": [],
   "source": [
    "# [START create_agent] Creating Azure AI Agent Service Agent\n",
    "writer_agent_definition = await project_client.agents.create_agent(  #add get_agent(assistant_id=\"\") for using already created agent\n",
    "        model=model,\n",
    "        name=WRITER_NAME,\n",
    "        instructions=writer_agent_prompt,\n",
    "    )\n",
    "\n",
    "# 2. Create a Semantic Kernel agent based on the agent definition\n",
    "agent_writer = AzureAIAgent(\n",
    "        client=project_client,\n",
    "        definition=writer_agent_definition,\n",
    "    )"
   ]
  },
  {
   "cell_type": "markdown",
   "id": "fcbcef4e",
   "metadata": {},
   "source": [
    "#### System Prompt for the \"Reviewer\" Agent"
   ]
  },
  {
   "cell_type": "code",
   "execution_count": null,
   "id": "592f84f2",
   "metadata": {},
   "outputs": [],
   "source": [
    "reviewer_agent_prompt = f\"\"\"You are a reviewer agent. Your task is to evaluate a short article (~100 words) written by another agent.\n",
    "Review it based on the following criteria:\n",
    "\n",
    "1. Clarity – Is the message clear and easy to follow?\n",
    "2. Accuracy – Does the content appear factually correct?\n",
    "3. Engagement – Is it interesting and appropriate for a general audience?\n",
    "4. Language – Are there grammar or style issues?\n",
    "\n",
    "Provide:\n",
    "\n",
    "1. A brief evaluation (2–3 lines).\n",
    "2. A score between 1–10 reflecting the overall quality of the article.\n",
    "3. If the score is 8 or below, provide 1–3 suggestions to improve the article.\n",
    "4. If the score is above 8, simply state: \"The article is good to go.\"\n",
    "\n",
    "Do not ask for further refinement unless the score is 8 or lower.\"\"\"\n"
   ]
  },
  {
   "cell_type": "markdown",
   "id": "3fbd0151",
   "metadata": {},
   "source": [
    "#### Creating the \"Reviewer\" Agent"
   ]
  },
  {
   "cell_type": "code",
   "execution_count": null,
   "id": "eac57ca7",
   "metadata": {},
   "outputs": [],
   "source": [
    "# [START create_agent] Creating Azure AI Agent Service Agent\n",
    "reviewer_agent_definition = await project_client.agents.create_agent(  #add get_agent(assistant_id=\"\") for using already created agent\n",
    "        model=model,\n",
    "        name=REVIEWER_NAME,\n",
    "        instructions=reviewer_agent_prompt\n",
    "    )\n",
    "\n",
    "# 2. Create a Semantic Kernel agent based on the agent definition\n",
    "agent_reviewer = AzureAIAgent(\n",
    "        client=project_client,\n",
    "        definition=reviewer_agent_definition,\n",
    "    )"
   ]
  },
  {
   "cell_type": "markdown",
   "id": "d1f04c9a",
   "metadata": {},
   "source": [
    "#### Creating the Kernel"
   ]
  },
  {
   "cell_type": "code",
   "execution_count": null,
   "id": "7ef28205",
   "metadata": {},
   "outputs": [],
   "source": [
    "from semantic_kernel import Kernel\n",
    "from semantic_kernel.connectors.ai.open_ai import AzureChatCompletion\n",
    "from semantic_kernel.functions import KernelArguments\n",
    "import os\n",
    "import asyncio\n",
    "import time\n",
    "from dotenv import load_dotenv\n",
    "\n",
    "kernel = Kernel()\n",
    "\n",
    "load_dotenv()\n",
    "# Load environment variables from .env file\n",
    "api_key = os.getenv(\"AZURE_OPENAI_API_KEY\")\n",
    "deployment_name = os.getenv(\"AZURE_OPENAI_CHAT_COMPLETION_MODEL\")\n",
    "endpoint = os.getenv(\"AZURE_OPENAI_ENDPOINT\")\n",
    "\n",
    "print(f\"API Key: {api_key}\")\n",
    "print(f\"Deployment Name: {deployment_name}\")\n",
    "print(f\"Endpoint: {endpoint}\")\n",
    "\n",
    "service_id = \"service1\"\n",
    "kernel.add_service(\n",
    "    AzureChatCompletion(service_id=service_id,\n",
    "                        api_key=api_key,\n",
    "                        deployment_name=deployment_name,\n",
    "                        endpoint = endpoint\n",
    "    )\n",
    ")"
   ]
  },
  {
   "cell_type": "markdown",
   "id": "6d5cec58",
   "metadata": {},
   "source": [
    "#### Defining our \"Agent Selection Function\"\n"
   ]
  },
  {
   "cell_type": "code",
   "execution_count": null,
   "id": "fbd6375a",
   "metadata": {},
   "outputs": [],
   "source": [
    "# Define a selection function to determine which agent should take the next turn.\n",
    "selection_function = KernelFunctionFromPrompt(\n",
    "        function_name=\"selection\",\n",
    "        prompt=f\"\"\"\n",
    "Examine the provided RESPONSE and choose the next participant.\n",
    "State only the name of the chosen participant without explanation.\n",
    "Never choose the participant named in the RESPONSE.\n",
    "\n",
    "Choose only from these participants:\n",
    "- {REVIEWER_NAME}\n",
    "- {WRITER_NAME}\n",
    "\n",
    "Rules:\n",
    "- If RESPONSE is user input, it is {WRITER_NAME}'s turn.\n",
    "- If RESPONSE is by {REVIEWER_NAME}, it is {WRITER_NAME}'s turn.\n",
    "- If RESPONSE is by {WRITER_NAME}, it is {REVIEWER_NAME}'s turn.\n",
    "\n",
    "RESPONSE:\n",
    "{{{{$lastmessage}}}}\n",
    "\"\"\",\n",
    ")\n"
   ]
  },
  {
   "cell_type": "markdown",
   "id": "d030cbc9",
   "metadata": {},
   "source": [
    "#### Defining our \"Conversation Termination Function\""
   ]
  },
  {
   "cell_type": "code",
   "execution_count": null,
   "id": "a26305aa",
   "metadata": {},
   "outputs": [],
   "source": [
    "# Define a termination function where the reviewer signals completion with \"yes\".\n",
    "termination_keyword = \"yes\"\n",
    "\n",
    "termination_function = KernelFunctionFromPrompt(\n",
    "        function_name=\"termination\",\n",
    "        prompt=f\"\"\"\n",
    "Examine the RESPONSE and determine whether the content has been deemed satisfactory.\n",
    "The content is deemed satisfactory if the reviewer has given a score of 8 or higher and stated \"The article is good to go.\"\n",
    "If the content is satisfactory, respond with a single word without explanation: {termination_keyword}.\n",
    "\n",
    "\n",
    "RESPONSE:\n",
    "{{{{$lastmessage}}}}\n",
    "\"\"\",\n",
    "    )"
   ]
  },
  {
   "cell_type": "markdown",
   "id": "282b64ac",
   "metadata": {},
   "source": [
    "#### Creating our Agent \"Group Chat\""
   ]
  },
  {
   "cell_type": "code",
   "execution_count": null,
   "id": "5605f9a7",
   "metadata": {},
   "outputs": [],
   "source": [
    "history_reducer = ChatHistoryTruncationReducer(target_count=5)\n",
    "\n",
    "    # Create the AgentGroupChat with selection and termination strategies.\n",
    "chat = AgentGroupChat(\n",
    "        agents=[agent_reviewer, agent_writer],\n",
    "        selection_strategy=KernelFunctionSelectionStrategy(\n",
    "            initial_agent=agent_writer,\n",
    "            function=selection_function,\n",
    "            kernel=kernel,\n",
    "            result_parser=lambda result: str(result.value[0]).strip() if result.value[0] is not None else WRITER_NAME,\n",
    "            history_variable_name=\"lastmessage\",\n",
    "            history_reducer=history_reducer,\n",
    "        ),\n",
    "        termination_strategy=KernelFunctionTerminationStrategy(\n",
    "            agents=[agent_reviewer],\n",
    "            function=termination_function,\n",
    "            kernel=kernel,\n",
    "            result_parser=lambda result: termination_keyword in str(result.value[0]).lower(),\n",
    "            history_variable_name=\"lastmessage\",\n",
    "            maximum_iterations=10,\n",
    "            history_reducer=history_reducer,\n",
    "        ),\n",
    "    )"
   ]
  },
  {
   "cell_type": "markdown",
   "id": "a4eaa000",
   "metadata": {},
   "source": [
    "#### Running our Agent Group Chat"
   ]
  },
  {
   "cell_type": "code",
   "execution_count": null,
   "id": "ef5bf379",
   "metadata": {},
   "outputs": [],
   "source": [
    "print(\n",
    "        \"Ready! Type your input, or 'exit' to quit, 'reset' to restart the conversation. \"\n",
    "    )\n",
    "\n",
    "is_complete = False\n",
    "while not is_complete:\n",
    "        print()\n",
    "        user_input = input(\"User > \").strip()\n",
    "        if not user_input:\n",
    "            continue\n",
    "\n",
    "        if user_input.lower() == \"exit\":\n",
    "            is_complete = True\n",
    "            break\n",
    "\n",
    "        if user_input.lower() == \"reset\":\n",
    "            await chat.reset()\n",
    "            print(\"[Conversation has been reset]\")\n",
    "            continue\n",
    "        \n",
    "        # Add the current user_input to the chat\n",
    "        await chat.add_chat_message(message=user_input)\n",
    "\n",
    "        try:\n",
    "            async for response in chat.invoke():\n",
    "                if response is None or not response.name:\n",
    "                    continue\n",
    "                print()\n",
    "                print(f\"# {response.name.upper()}:\\n{response.content}\")\n",
    "        except Exception as e:\n",
    "            print(f\"Error during chat invocation: {e}\")\n",
    "\n",
    "        # Reset the chat's complete flag for the new conversation round.\n",
    "        chat.is_complete = False"
   ]
  }
 ],
 "metadata": {
  "kernelspec": {
   "display_name": "Python 3",
   "language": "python",
   "name": "python3"
  },
  "language_info": {
   "codemirror_mode": {
    "name": "ipython",
    "version": 3
   },
   "file_extension": ".py",
   "mimetype": "text/x-python",
   "name": "python",
   "nbconvert_exporter": "python",
   "pygments_lexer": "ipython3",
   "version": "3.11.5"
  }
 },
 "nbformat": 4,
 "nbformat_minor": 5
}
