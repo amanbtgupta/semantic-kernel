{
 "cells": [
  {
   "cell_type": "markdown",
   "id": "1631e5df",
   "metadata": {},
   "source": [
    "## Creating Azure AI Agent Service Agents with the Semantic Kernel"
   ]
  },
  {
   "cell_type": "markdown",
   "id": "fd02beee",
   "metadata": {},
   "source": [
    "![Agent Workflow](https://github.com/kuljotSB/semantic-kernel/blob/main/Assets/Azure_AI_Agent.jpg?raw=true)\n"
   ]
  },
  {
   "cell_type": "markdown",
   "id": "be82ca80",
   "metadata": {},
   "source": [
    "#### Installing dependencies and libraries"
   ]
  },
  {
   "cell_type": "code",
   "execution_count": null,
   "id": "685e07fd",
   "metadata": {},
   "outputs": [],
   "source": [
    "%pip install semantic-kernel==1.28.1"
   ]
  },
  {
   "cell_type": "code",
   "execution_count": null,
   "id": "7ba10a8c",
   "metadata": {},
   "outputs": [],
   "source": [
    "%pip install azure-identity"
   ]
  },
  {
   "cell_type": "code",
   "execution_count": null,
   "id": "546dbcd0",
   "metadata": {},
   "outputs": [],
   "source": [
    "%pip install azure-ai-projects==1.0.0b7"
   ]
  },
  {
   "cell_type": "markdown",
   "id": "131aca10",
   "metadata": {},
   "source": [
    "#### Creating our Agent via code"
   ]
  },
  {
   "cell_type": "code",
   "execution_count": null,
   "id": "c03aa9d5",
   "metadata": {},
   "outputs": [],
   "source": [
    "from azure.identity import DefaultAzureCredential\n",
    "from semantic_kernel.agents import AzureAIAgent, AzureAIAgentSettings\n",
    "import os\n",
    "from azure.ai.projects import AIProjectClient\n",
    "from dotenv import load_dotenv\n",
    "import asyncio\n",
    "\n",
    "load_dotenv()\n",
    "\n",
    "model = os.getenv(\"AZURE_OPENAI_CHAT_COMPLETION_MODEL\")\n",
    "\n",
    "project_client = AzureAIAgent.create_client(credential=DefaultAzureCredential(),\n",
    "                           conn_str=os.getenv(\"PROJECT_CONNECTION_STRING\")\n",
    ")\n",
    "\n",
    "# [START create_agent] Creating Azure AI Agent Service Agent\n",
    "agent_definition = await project_client.agents.create_agent(  #add get_agent(assistant_id=\"\") for using already created agent\n",
    "        model=model,\n",
    "        name=\"my-assistant\",\n",
    "        instructions=\"You are helpful assistant\",\n",
    "    )\n",
    "\n",
    "# 2. Create a Semantic Kernel agent based on the agent definition\n",
    "agent = AzureAIAgent(\n",
    "        client=project_client,\n",
    "        definition=agent_definition,\n",
    "    )\n"
   ]
  },
  {
   "cell_type": "markdown",
   "id": "ed3c6c97",
   "metadata": {},
   "source": [
    "#### Getting a Response back from our Agent"
   ]
  },
  {
   "cell_type": "code",
   "execution_count": null,
   "id": "8ee065a3",
   "metadata": {},
   "outputs": [],
   "source": [
    "user_input = \"What is the capital of France?\"\n",
    "\n",
    "thread = project_client.agents.create_thread()\n",
    "\n",
    "\n",
    "# 3. Call the agent with user input\n",
    "async def get_response_from_agent():\n",
    "    response =  await agent.get_response(\n",
    "        messages = user_input,\n",
    "       \n",
    "    )\n",
    "    \n",
    "    return response\n",
    "\n",
    "response = await get_response_from_agent()\n",
    "print(response)"
   ]
  },
  {
   "cell_type": "markdown",
   "id": "0b7cae1f",
   "metadata": {},
   "source": [
    "#### Seeing Agent Chat History Thread in Action"
   ]
  },
  {
   "cell_type": "code",
   "execution_count": null,
   "id": "7e219df7",
   "metadata": {},
   "outputs": [],
   "source": [
    "from semantic_kernel.agents import AzureAIAgentThread\n",
    "\n",
    "thread: AzureAIAgentThread = AzureAIAgentThread(client=project_client)\n",
    "\n",
    "continue_chat = True\n",
    "\n",
    "while continue_chat:\n",
    "    user_input = input(\"Enter your message: \")\n",
    "    if user_input.lower() == \"exit\":\n",
    "        continue_chat = False\n",
    "        break\n",
    "    # Call the agent with user input\n",
    "    response = await agent.get_response(messages=user_input,\n",
    "                                         thread = thread\n",
    "    )\n",
    "    \n",
    "    print(response)\n",
    "\n"
   ]
  }
 ],
 "metadata": {
  "kernelspec": {
   "display_name": "Python 3",
   "language": "python",
   "name": "python3"
  },
  "language_info": {
   "codemirror_mode": {
    "name": "ipython",
    "version": 3
   },
   "file_extension": ".py",
   "mimetype": "text/x-python",
   "name": "python",
   "nbconvert_exporter": "python",
   "pygments_lexer": "ipython3",
   "version": "3.11.5"
  }
 },
 "nbformat": 4,
 "nbformat_minor": 5
}
